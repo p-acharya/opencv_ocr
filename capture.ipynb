{
 "cells": [
  {
   "cell_type": "code",
   "execution_count": 2,
   "metadata": {},
   "outputs": [],
   "source": [
    "import sys\n",
    "from PyQt5 import QtWidgets, QtCore, QtGui\n",
    "from PyQt5.QtWidgets import QSystemTrayIcon, QApplication, QLabel, QMainWindow, QPushButton\n",
    "from PyQt5.QtGui import QIcon\n",
    "from PyQt5.QtCore import Qt\n",
    "import tkinter as tk\n",
    "import PIL.Image\n",
    "import numpy as np\n",
    "import cv2\n",
    "import io\n",
    "import json\n",
    "import ctypes\n",
    "from io import BytesIO\n",
    "import win32clipboard\n",
    "import glob\n",
    "import os\n",
    "from matplotlib import pyplot as plt\n",
    "from IPython.display import clear_output, Image, display\n",
    "from google.cloud.vision import types\n",
    "from google.cloud import vision\n",
    "import mss\n",
    "import pyperclip\n",
    "import mss.tools\n",
    "os.environ[\"GOOGLE_APPLICATION_CREDENTIALS\"] = \"C:/Users/poorv/Downloads/ocr_scripts/keys/direct-outlook-270501-c05c2d97d1c6.json\""
   ]
  },
  {
   "cell_type": "code",
   "execution_count": 3,
   "metadata": {},
   "outputs": [],
   "source": [
    "def send_text_clipboard(text):\n",
    "    pyperclip.copy(text)\n",
    "    spam = pyperclip.paste()\n",
    "    \n",
    "def dtlh(path, lh):\n",
    "    \"\"\"Detects text in the file.\"\"\"\n",
    "    client = vision.ImageAnnotatorClient()\n",
    "    if type(path) == str:\n",
    "        with io.open(path, 'rb') as image_file:\n",
    "            content = image_file.read()\n",
    "            image = vision.types.Image(content=content)\n",
    "    else:\n",
    "        image = types.Image(content=cv2.imencode('.jpg', path)[1].tostring())\n",
    "        \n",
    "    response = client.text_detection(\n",
    "    image=image,\n",
    "    image_context={\"language_hints\": lh},\n",
    "    )\n",
    "    texts = response.text_annotations\n",
    "    if response.error.message:\n",
    "        raise Exception(\n",
    "            '{}\\nFor more info on error messages, check: '\n",
    "            'https://cloud.google.com/apis/design/errors'.format(\n",
    "                response.error.message))\n",
    "    return texts[0].description"
   ]
  },
  {
   "cell_type": "code",
   "execution_count": 4,
   "metadata": {},
   "outputs": [],
   "source": [
    "class SystemTrayIcon(QtWidgets.QSystemTrayIcon):\n",
    "\n",
    "    def __init__(self, icon, parent=None):\n",
    "        QtWidgets.QSystemTrayIcon.__init__(self, icon, parent)\n",
    "        menu = QtWidgets.QMenu(parent)\n",
    "        exitAction = menu.addAction(\"Exit\", self.exit)\n",
    "        self.setContextMenu(menu)\n",
    "        self.show()\n",
    "\n",
    "    def exit(self):\n",
    "        print(\"icon exit\")\n",
    "        self.hide()\n",
    "        QtCore.QCoreApplication.exit()"
   ]
  },
  {
   "cell_type": "code",
   "execution_count": 5,
   "metadata": {
    "scrolled": false
   },
   "outputs": [],
   "source": [
    "class ocrWidget(QtWidgets.QWidget):\n",
    "#     clicked = QtCore.pyqtSignal(object)\n",
    "    \n",
    "    def __init__(self, parent = None):\n",
    "        super().__init__()\n",
    "        root = tk.Tk()\n",
    "        screen_width = root.winfo_screenwidth()\n",
    "        screen_height = root.winfo_screenheight()\n",
    "        self.setGeometry(0, 0, screen_width, screen_height)\n",
    "        self.setWindowTitle(' ')\n",
    "        self.begin = QtCore.QPoint()\n",
    "        self.end = QtCore.QPoint()\n",
    "        self.setWindowOpacity(0.3)\n",
    "        QtWidgets.QApplication.setOverrideCursor(\n",
    "            QtGui.QCursor(QtCore.Qt.CrossCursor)\n",
    "        )\n",
    "        self.setWindowFlags(QtCore.Qt.FramelessWindowHint)\n",
    "        QtWidgets.QShortcut(\n",
    "            QtGui.QKeySequence(\"Escape\"), self, activated=self.on_Escape\n",
    "        )\n",
    "#         self.mouseReleaseEvent.connect(self.parent.show)\n",
    "#         image = r'icon.jpg'\n",
    "#         self.tray_icon = SystemTrayIcon(QtGui.QIcon(image), self)\n",
    "#         print(type(self))\n",
    "#         print('Capture the screen...')\n",
    "#         self.show()\n",
    "#         testSignal = QtCore.pyqtSignal(object)\n",
    "#     self.pushButton.clicked.connect(self.parent)\n",
    "\n",
    "\n",
    "    def paintEvent(self, event):\n",
    "        qp = QtGui.QPainter(self)\n",
    "        qp.setPen(QtGui.QPen(QtGui.QColor('black'), 3))\n",
    "        qp.setBrush(QtGui.QColor(128, 128, 255, 128))\n",
    "        qp.drawRect(QtCore.QRect(self.begin, self.end))\n",
    "\n",
    "    def mousePressEvent(self, event):\n",
    "        self.begin = event.pos()\n",
    "        self.end = self.begin\n",
    "        self.update()\n",
    "    \n",
    "    @QtCore.pyqtSlot()\n",
    "    def on_Escape(self):\n",
    "        print(\"main esp exit\")\n",
    "        self.close()\n",
    "\n",
    "    def mouseMoveEvent(self, event):\n",
    "        self.end = event.pos()\n",
    "        self.update()\n",
    "    \n",
    "    def changeWindow(self):\n",
    "        self.hide()\n",
    "        self.close()\n",
    "        self.parent.show()    \n",
    "\n",
    "    def mouseReleaseEvent(self, event):\n",
    "#         self.hide()\n",
    "#         self.close()\n",
    "        previous = self.parent\n",
    "        self.close()\n",
    "\n",
    "        x1 = min(self.begin.x(), self.end.x())\n",
    "        y1 = min(self.begin.y(), self.end.y())\n",
    "        x2 = max(self.begin.x(), self.end.x())\n",
    "        y2 = max(self.begin.y(), self.end.y())\n",
    "        \n",
    "        with mss.mss() as sct:\n",
    "            # The screen part to capture\n",
    "            monitor = {\"top\": y1, \"left\":x1, \"width\": abs(x2 - x1) , \"height\": abs(y2 - y1)}\n",
    "            \n",
    "            output = \"sct-{top}x{left}_{width}x{height}.png\".format(**monitor)\n",
    "\n",
    "            sct_img = sct.grab(monitor)\n",
    "            img = PIL.Image.frombytes(\"RGB\", sct_img.size, sct_img.bgra, \"raw\", \"BGRX\")\n",
    "\n",
    "        img = cv2.cvtColor(np.array(img), cv2.COLOR_BGR2RGB)\n",
    "        im_gray=cv2.cvtColor(img,cv2.COLOR_BGR2GRAY)\n",
    "        ret,thresh = cv2.threshold(im_gray,127,255,cv2.THRESH_BINARY_INV)\n",
    "        ocr = dtlh(thresh, [\"hi\"])\n",
    "        send_text_clipboard(ocr)\n",
    "        print(ocr)\n",
    "#         self.clicked.emit()\n",
    "#         previous.show()\n",
    "        \n",
    "#         cv2.imshow('Captured Image', img)\n",
    "#         cv2.waitKey(0)\n",
    "#         print(\"image exit\")\n",
    "#         cv2.destroyAllWindows()\n",
    "#         self.changeWindow()"
   ]
  },
  {
   "cell_type": "code",
   "execution_count": 6,
   "metadata": {},
   "outputs": [
    {
     "name": "stdout",
     "output_type": "stream",
     "text": [
      "बारिश होने लगी।\n",
      "बच्चे तालियाँ बजाने लगे ।\n",
      "माँ मेरा नाम चिल्लाने लगी।\n",
      "हमें प्यास लगने लगी ।\n",
      "मुझे महसूस होने लगा कि यह पाट\n",
      "तो कभी खत्म नहीं होगा।\n",
      "\n"
     ]
    },
    {
     "ename": "SystemExit",
     "evalue": "0",
     "output_type": "error",
     "traceback": [
      "An exception has occurred, use %tb to see the full traceback.\n",
      "\u001b[1;31mSystemExit\u001b[0m\u001b[1;31m:\u001b[0m 0\n"
     ]
    }
   ],
   "source": [
    "app = QtWidgets.QApplication(sys.argv)\n",
    "window = ocrWidget()\n",
    "window.show()\n",
    "app.aboutToQuit.connect(app.deleteLater)\n",
    "sys.exit(app.exec_())"
   ]
  },
  {
   "cell_type": "code",
   "execution_count": null,
   "metadata": {},
   "outputs": [],
   "source": [
    "\"\"\"what do we want.\n",
    "1. when we start the program, icon appears in sys tray\n",
    "click sys tray, and gray screen appears to capture \n",
    "close the OCR widget (but not the main sys tray, when done)\n",
    "click the sys tray again to start OCR again "
   ]
  },
  {
   "cell_type": "code",
   "execution_count": null,
   "metadata": {},
   "outputs": [],
   "source": [
    "class SystemTrayIcon(QtWidgets.QSystemTrayIcon):\n",
    "\n",
    "    def __init__(self, parent=None, ocr=None):\n",
    "        QtWidgets.QSystemTrayIcon.__init__(self, parent)\n",
    "        self.setIcon(QIcon(\"icon.jpg\"))\n",
    "        menu = QtWidgets.QMenu(parent)\n",
    "        exitAction = menu.addAction(\"Exit\")\n",
    "        self.setVisible(True)  \n",
    "        self.setContextMenu(menu)\n",
    "        menu.triggered.connect(self.exit)\n",
    "        self.activated.connect(self.reInit)\n",
    "        self.ocr = ocr\n",
    "\n",
    "    def reInit(self, reason):\n",
    "        if reason == QtWidgets.QSystemTrayIcon.Trigger:\n",
    "            print(\"clicked\")\n",
    "            \n",
    "            self.ocr = ocrWidget(self)\n",
    "            self.ocr.clicked.connect(self.ri)\n",
    "            self.ocr.show()\n",
    "#             if not self.ocr:\n",
    "#                 self.ocr = ocrWidget(self.parent)\n",
    "#             self.ocr.show()\n",
    "            \n",
    "#             if not self.ocr or isVisibleWidget(self.ocr):\n",
    "#                 \n",
    "#                 self.ocr.show()\n",
    "#             else:\n",
    "#                 self.ocr.show()\n",
    "    def ri(self):\n",
    "        self.ocr = ocrWidget(self)\n",
    "                \n",
    "    def exit(self):\n",
    "        print(\"exited icon\")\n",
    "        self.hide()\n",
    "        QtCore.QCoreApplication.exit()\n",
    "    \n",
    "    def isVisibleWidget(widget):\n",
    "        if not widget.visibleRegion().isEmpty():\n",
    "            return True\n",
    "        return False\n",
    "\n",
    "def main():\n",
    "    app = QtWidgets.QApplication(sys.argv)\n",
    "#     app.setQuitOnLastWindowClosed(False) \n",
    "    main = QtWidgets.QWidget()\n",
    "#     scanner = ocrWidget()\n",
    "    trayIcon = SystemTrayIcon(main)\n",
    "    trayIcon.show()\n",
    "    sys.exit(app.exec_())\n",
    "    \n",
    "main()\n",
    "\n",
    "\n",
    "# if __name__ == '__main__':\n",
    "#     on='icon.ico'\n",
    "#     main(on)"
   ]
  },
  {
   "cell_type": "code",
   "execution_count": null,
   "metadata": {},
   "outputs": [],
   "source": []
  },
  {
   "cell_type": "code",
   "execution_count": 15,
   "metadata": {},
   "outputs": [
    {
     "data": {
      "text/plain": [
       "\"wego\\n?weg 3 erata\\n? ಎಬಿವು' eravu\\nn. [move) pulling (C. (Kitt.)) [Ka.\\nD504(a)]\\nn. (move] 1 pulling, dragging\\n2 spasm, cramp (My. (Kitt.)) [Ka. D504(a)].\\n•ಎಬಿವು' eravu\\n283) vt. (move] 1 to rub;\\nto rub off or out; to smear gently 2 to stroke gently\\n[Ka. D505].\\n\""
      ]
     },
     "execution_count": 15,
     "metadata": {},
     "output_type": "execute_result"
    }
   ],
   "source": [
    "dtlh(r\"C:\\Users\\poorv\\Downloads\\ocr_scripts\\demo\\pg191_excerpt.png\", [\"kn\"])"
   ]
  },
  {
   "cell_type": "code",
   "execution_count": 5,
   "metadata": {},
   "outputs": [],
   "source": []
  },
  {
   "cell_type": "code",
   "execution_count": 6,
   "metadata": {},
   "outputs": [],
   "source": [
    "class MainWindow(QMainWindow):\n",
    "\n",
    "    def __init__(self, *args, **kwargs):\n",
    "        super(MainWindow, self).__init__(*args, **kwargs)\n",
    "\n",
    "        self.setWindowTitle(\"My Awesome App\")\n",
    "\n",
    "        label = QLabel(\"This is a PyQt5 window!\")\n",
    "\n",
    "        # The `Qt` namespace has a lot of attributes to customise\n",
    "        # widgets. See: http://doc.qt.io/qt-5/qt.html\n",
    "        label.setAlignment(Qt.AlignCenter)\n",
    "\n",
    "        # Set the central widget of the Window. Widget will expand\n",
    "        # to take up all the space in the window by default.\n",
    "        self.setCentralWidget(label)\n",
    "        btn = QPushButton('Button', self)\n",
    "        btn.clicked.connect(self.reInit)\n",
    "    \n",
    "    def reInit(self):\n",
    "        window = ocrWidget()\n",
    "        window.show()\n",
    "\n"
   ]
  },
  {
   "cell_type": "code",
   "execution_count": 7,
   "metadata": {},
   "outputs": [
    {
     "data": {
      "text/plain": [
       "0"
      ]
     },
     "execution_count": 7,
     "metadata": {},
     "output_type": "execute_result"
    }
   ],
   "source": [
    "app = QApplication(sys.argv)\n",
    "\n",
    "window = MainWindow()\n",
    "window.show()\n",
    "\n",
    "app.exec_()"
   ]
  },
  {
   "cell_type": "code",
   "execution_count": null,
   "metadata": {},
   "outputs": [],
   "source": []
  }
 ],
 "metadata": {
  "kernelspec": {
   "display_name": "Python [conda env:root] *",
   "language": "python",
   "name": "conda-root-py"
  },
  "language_info": {
   "codemirror_mode": {
    "name": "ipython",
    "version": 3
   },
   "file_extension": ".py",
   "mimetype": "text/x-python",
   "name": "python",
   "nbconvert_exporter": "python",
   "pygments_lexer": "ipython3",
   "version": "3.7.6"
  }
 },
 "nbformat": 4,
 "nbformat_minor": 4
}
