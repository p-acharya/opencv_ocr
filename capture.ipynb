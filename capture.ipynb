{
 "cells": [
  {
   "cell_type": "code",
   "execution_count": 10,
   "metadata": {},
   "outputs": [],
   "source": [
    "import sys\n",
    "from PyQt5 import QtWidgets, QtCore, QtGui\n",
    "from PyQt5.QtWidgets import QSystemTrayIcon, QApplication, QLabel, QMainWindow, QPushButton\n",
    "from PyQt5.QtGui import QIcon\n",
    "from PyQt5.QtCore import Qt\n",
    "import tkinter as tk\n",
    "import PIL.Image\n",
    "import numpy as np\n",
    "import cv2\n",
    "import io\n",
    "import json\n",
    "import ctypes\n",
    "from io import BytesIO\n",
    "import win32clipboard\n",
    "import glob\n",
    "import os\n",
    "from matplotlib import pyplot as plt\n",
    "from IPython.display import clear_output, Image, display\n",
    "from google.cloud.vision import types\n",
    "from google.cloud import vision\n",
    "import mss\n",
    "import pyperclip\n",
    "import mss.tools\n",
    "os.environ[\"GOOGLE_APPLICATION_CREDENTIALS\"] = \"C:/Users/poorv/Downloads/ocr_scripts/keys/direct-outlook-270501-c05c2d97d1c6.json\""
   ]
  },
  {
   "cell_type": "code",
   "execution_count": 21,
   "metadata": {},
   "outputs": [],
   "source": [
    "def send_text_clipboard(text):\n",
    "    pyperclip.copy(text)\n",
    "    spam = pyperclip.paste()\n",
    "    \n",
    "def dtlh(path, lh):\n",
    "    \"\"\"Detects text in the file.\"\"\"\n",
    "    client = vision.ImageAnnotatorClient()\n",
    "    if type(path) == str:\n",
    "        with io.open(path, 'rb') as image_file:\n",
    "            content = image_file.read()\n",
    "            image = vision.types.Image(content=content)\n",
    "    else:\n",
    "        image = types.Image(content=cv2.imencode('.jpg', path)[1].tostring())\n",
    "        \n",
    "    response = client.text_detection(\n",
    "    image=image,\n",
    "    image_context={\"language_hints\": lh},\n",
    "    )\n",
    "    texts = response.text_annotations\n",
    "    if response.error.message:\n",
    "        raise Exception(\n",
    "            '{}\\nFor more info on error messages, check: '\n",
    "            'https://cloud.google.com/apis/design/errors'.format(\n",
    "                response.error.message))\n",
    "    try:\n",
    "        return texts[0].description\n",
    "    except IndexError:\n",
    "        print('no text in image')"
   ]
  },
  {
   "cell_type": "code",
   "execution_count": 61,
   "metadata": {
    "scrolled": false
   },
   "outputs": [],
   "source": [
    "class ocrWidget(QtWidgets.QWidget):\n",
    "#     clicked = QtCore.pyqtSignal(object)\n",
    "    \n",
    "    def __init__(self, parent = None):\n",
    "        super().__init__()\n",
    "        root = tk.Tk()\n",
    "        screen_width = root.winfo_screenwidth()\n",
    "        screen_height = root.winfo_screenheight()\n",
    "        self.setGeometry(0, 0, screen_width, screen_height)\n",
    "        self.setWindowTitle(' ')\n",
    "        self.begin = QtCore.QPoint()\n",
    "        self.end = QtCore.QPoint()\n",
    "        self.parent = parent\n",
    "        self.setWindowOpacity(0.3)\n",
    "        QtWidgets.QApplication.setOverrideCursor(\n",
    "            QtGui.QCursor(QtCore.Qt.CrossCursor)\n",
    "        )\n",
    "        self.setWindowFlags(QtCore.Qt.FramelessWindowHint)\n",
    "        QtWidgets.QShortcut(\n",
    "            QtGui.QKeySequence(\"Escape\"), self, activated=self.on_Escape\n",
    "        )\n",
    "\n",
    "    def paintEvent(self, event):\n",
    "        qp = QtGui.QPainter(self)\n",
    "        qp.setPen(QtGui.QPen(QtGui.QColor('black'), 3))\n",
    "        qp.setBrush(QtGui.QColor(128, 128, 255, 128))\n",
    "        qp.drawRect(QtCore.QRect(self.begin, self.end))\n",
    "\n",
    "    def mousePressEvent(self, event):\n",
    "        self.begin = event.pos()\n",
    "        self.end = self.begin\n",
    "        self.update()\n",
    "    \n",
    "    @QtCore.pyqtSlot()\n",
    "    def on_Escape(self):\n",
    "        print(\"main esp exit\")\n",
    "#         self.close()\n",
    "        self.closeAndReturn()\n",
    "        \n",
    "\n",
    "    def mouseMoveEvent(self, event):\n",
    "        self.end = event.pos()\n",
    "        self.update()\n",
    "    \n",
    "    def closeAndReturn(self):\n",
    "        self.close()\n",
    "        self.parent.setWindowOpacity(1.)\n",
    "        return\n",
    "\n",
    "    def mouseReleaseEvent(self, event):\n",
    "        previous = self.parent\n",
    "        self.close()\n",
    "\n",
    "        x1 = min(self.begin.x(), self.end.x())\n",
    "        y1 = min(self.begin.y(), self.end.y())\n",
    "        x2 = max(self.begin.x(), self.end.x())\n",
    "        y2 = max(self.begin.y(), self.end.y())\n",
    "        \n",
    "        with mss.mss() as sct:\n",
    "            # The screen part to capture\n",
    "            if (y1 == y2 and x1 == x2):\n",
    "                print(\"no region selected\")\n",
    "#                 return \n",
    "                self.closeAndReturn()\n",
    "            \n",
    "            monitor = {\"top\": y1, \"left\":x1, \"width\": abs(x2 - x1) , \"height\": abs(y2 - y1)}\n",
    "            output = \"sct-{top}x{left}_{width}x{height}.png\".format(**monitor)\n",
    "            sct_img = sct.grab(monitor)\n",
    "            try:\n",
    "                img = PIL.Image.frombytes(\"RGB\", sct_img.size, sct_img.bgra, \"raw\", \"BGRX\")\n",
    "                img = cv2.cvtColor(np.array(img), cv2.COLOR_BGR2RGB)\n",
    "                im_gray=cv2.cvtColor(img,cv2.COLOR_BGR2GRAY)\n",
    "                ret,thresh = cv2.threshold(im_gray,127,255,cv2.THRESH_BINARY_INV)\n",
    "                ocr = dtlh(thresh, [\"hi\"])\n",
    "                if ocr:\n",
    "                    send_text_clipboard(ocr)\n",
    "                    print(ocr)\n",
    "                self.parent.setWindowOpacity(1.)\n",
    "            except ValueError:\n",
    "                print(\"invalid region selection. try again\")\n",
    "                self.closeAndReturn()"
   ]
  },
  {
   "cell_type": "code",
   "execution_count": 62,
   "metadata": {},
   "outputs": [
    {
     "name": "stdout",
     "output_type": "stream",
     "text": [
      "main esp exit\n"
     ]
    },
    {
     "ename": "AttributeError",
     "evalue": "'NoneType' object has no attribute 'setWindowOpacity'",
     "output_type": "error",
     "traceback": [
      "\u001b[1;31m---------------------------------------------------------------------------\u001b[0m",
      "\u001b[1;31mAttributeError\u001b[0m                            Traceback (most recent call last)",
      "\u001b[1;32m<ipython-input-61-b35251af9767>\u001b[0m in \u001b[0;36mon_Escape\u001b[1;34m(self)\u001b[0m\n\u001b[0;32m     36\u001b[0m         \u001b[0mprint\u001b[0m\u001b[1;33m(\u001b[0m\u001b[1;34m\"main esp exit\"\u001b[0m\u001b[1;33m)\u001b[0m\u001b[1;33m\u001b[0m\u001b[1;33m\u001b[0m\u001b[0m\n\u001b[0;32m     37\u001b[0m \u001b[1;31m#         self.close()\u001b[0m\u001b[1;33m\u001b[0m\u001b[1;33m\u001b[0m\u001b[1;33m\u001b[0m\u001b[0m\n\u001b[1;32m---> 38\u001b[1;33m         \u001b[0mself\u001b[0m\u001b[1;33m.\u001b[0m\u001b[0mcloseAndReturn\u001b[0m\u001b[1;33m(\u001b[0m\u001b[1;33m)\u001b[0m\u001b[1;33m\u001b[0m\u001b[1;33m\u001b[0m\u001b[0m\n\u001b[0m\u001b[0;32m     39\u001b[0m \u001b[1;33m\u001b[0m\u001b[0m\n\u001b[0;32m     40\u001b[0m \u001b[1;33m\u001b[0m\u001b[0m\n",
      "\u001b[1;32m<ipython-input-61-b35251af9767>\u001b[0m in \u001b[0;36mcloseAndReturn\u001b[1;34m(self)\u001b[0m\n\u001b[0;32m     45\u001b[0m     \u001b[1;32mdef\u001b[0m \u001b[0mcloseAndReturn\u001b[0m\u001b[1;33m(\u001b[0m\u001b[0mself\u001b[0m\u001b[1;33m)\u001b[0m\u001b[1;33m:\u001b[0m\u001b[1;33m\u001b[0m\u001b[1;33m\u001b[0m\u001b[0m\n\u001b[0;32m     46\u001b[0m         \u001b[0mself\u001b[0m\u001b[1;33m.\u001b[0m\u001b[0mclose\u001b[0m\u001b[1;33m(\u001b[0m\u001b[1;33m)\u001b[0m\u001b[1;33m\u001b[0m\u001b[1;33m\u001b[0m\u001b[0m\n\u001b[1;32m---> 47\u001b[1;33m         \u001b[0mself\u001b[0m\u001b[1;33m.\u001b[0m\u001b[0mparent\u001b[0m\u001b[1;33m.\u001b[0m\u001b[0msetWindowOpacity\u001b[0m\u001b[1;33m(\u001b[0m\u001b[1;36m1.\u001b[0m\u001b[1;33m)\u001b[0m\u001b[1;33m\u001b[0m\u001b[1;33m\u001b[0m\u001b[0m\n\u001b[0m\u001b[0;32m     48\u001b[0m         \u001b[1;32mreturn\u001b[0m\u001b[1;33m\u001b[0m\u001b[1;33m\u001b[0m\u001b[0m\n\u001b[0;32m     49\u001b[0m \u001b[1;33m\u001b[0m\u001b[0m\n",
      "\u001b[1;31mAttributeError\u001b[0m: 'NoneType' object has no attribute 'setWindowOpacity'"
     ]
    },
    {
     "ename": "SystemExit",
     "evalue": "0",
     "output_type": "error",
     "traceback": [
      "An exception has occurred, use %tb to see the full traceback.\n",
      "\u001b[1;31mSystemExit\u001b[0m\u001b[1;31m:\u001b[0m 0\n"
     ]
    }
   ],
   "source": [
    "app = QtWidgets.QApplication(sys.argv)\n",
    "window = ocrWidget()\n",
    "window.show()\n",
    "app.aboutToQuit.connect(app.deleteLater)\n",
    "sys.exit(app.exec_())"
   ]
  },
  {
   "cell_type": "code",
   "execution_count": null,
   "metadata": {},
   "outputs": [],
   "source": [
    "\"\"\"what do we want.\n",
    "1. when we start the program, icon appears in sys tray\n",
    "click sys tray, and gray screen appears to capture \n",
    "close the OCR widget (but not the main sys tray, when done)\n",
    "click the sys tray again to start OCR again "
   ]
  },
  {
   "cell_type": "code",
   "execution_count": 15,
   "metadata": {},
   "outputs": [
    {
     "data": {
      "text/plain": [
       "\"wego\\n?weg 3 erata\\n? ಎಬಿವು' eravu\\nn. [move) pulling (C. (Kitt.)) [Ka.\\nD504(a)]\\nn. (move] 1 pulling, dragging\\n2 spasm, cramp (My. (Kitt.)) [Ka. D504(a)].\\n•ಎಬಿವು' eravu\\n283) vt. (move] 1 to rub;\\nto rub off or out; to smear gently 2 to stroke gently\\n[Ka. D505].\\n\""
      ]
     },
     "execution_count": 15,
     "metadata": {},
     "output_type": "execute_result"
    }
   ],
   "source": [
    "dtlh(r\"C:\\Users\\poorv\\Downloads\\ocr_scripts\\demo\\pg191_excerpt.png\", [\"kn\"])"
   ]
  },
  {
   "cell_type": "code",
   "execution_count": 53,
   "metadata": {},
   "outputs": [],
   "source": [
    "import sys\n",
    "from PyQt5.QtWidgets import (QApplication, QMainWindow, QWidget, \n",
    "                             QVBoxLayout, QTextEdit, QPushButton)\n",
    "\n",
    "from PyQt5.QtWidgets import QApplication, QDialog\n",
    "from PyQt5.QtCore import QCoreApplication"
   ]
  },
  {
   "cell_type": "code",
   "execution_count": null,
   "metadata": {},
   "outputs": [
    {
     "name": "stdout",
     "output_type": "stream",
     "text": [
      "no text in image\n",
      "no region selected\n",
      "invalid region selection. try again\n",
      "city()\n",
      "lication.instance()\n",
      "(sys.argv)\n",
      "-\n",
      "\n"
     ]
    }
   ],
   "source": [
    "from PyQt5 import QtGui, QtCore\n",
    "import sys\n",
    "\n",
    "\n",
    "class First(QMainWindow):\n",
    "    def __init__(self, parent=None):\n",
    "        super(First, self).__init__(parent)\n",
    "        self.pushButton = QPushButton(\"click me\")\n",
    "\n",
    "        self.setCentralWidget(self.pushButton)\n",
    "\n",
    "        self.pushButton.clicked.connect(self.on_pushButton_clicked)\n",
    "        self.dialogs = list()\n",
    "\n",
    "    def on_pushButton_clicked(self):\n",
    "        dialog = ocrWidget(self)\n",
    "        self.dialogs.append(dialog)\n",
    "        dialog.show()\n",
    "        self.setWindowOpacity(0.)\n",
    "\n",
    "def main():\n",
    "    app = QtCore.QCoreApplication.instance()\n",
    "    if app is None:\n",
    "        app = QApplication(sys.argv)\n",
    "    main = First()\n",
    "    main.show()\n",
    "    sys.exit(app.exec_())\n",
    "\n",
    "if __name__ == '__main__':\n",
    "    main()"
   ]
  },
  {
   "cell_type": "code",
   "execution_count": null,
   "metadata": {},
   "outputs": [],
   "source": []
  }
 ],
 "metadata": {
  "kernelspec": {
   "display_name": "Python [conda env:root] *",
   "language": "python",
   "name": "conda-root-py"
  },
  "language_info": {
   "codemirror_mode": {
    "name": "ipython",
    "version": 3
   },
   "file_extension": ".py",
   "mimetype": "text/x-python",
   "name": "python",
   "nbconvert_exporter": "python",
   "pygments_lexer": "ipython3",
   "version": "3.7.6"
  }
 },
 "nbformat": 4,
 "nbformat_minor": 4
}
