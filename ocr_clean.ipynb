{
 "cells": [
  {
   "cell_type": "code",
   "execution_count": 16,
   "metadata": {},
   "outputs": [],
   "source": [
    "from google.cloud import vision\n",
    "import io\n",
    "import glob\n",
    "import os\n",
    "import os.path\n",
    "\n",
    "###### before running, please run export GOOGLE_APPLICATION_CREDENTIALS='/path/to/your/client_secret.json'\n",
    "#export GOOGLE_APPLICATION_CREDENTIALS='/c/Users/poorv/Downloads/ocr_scripts/keys/direct-outlook-270501-c05c2d97d1c6.json'\n",
    "#echo $GOOGLE_APPLICATION_CREDENTIALS \n",
    "#os.environ[\"GOOGLE_APPLICATION_CREDENTIALS\"] = \"C:/Users/poorv/Downloads/ocr_scripts/keys/direct-outlook-270501-c05c2d97d1c6.json\""
   ]
  },
  {
   "cell_type": "code",
   "execution_count": 14,
   "metadata": {},
   "outputs": [
    {
     "data": {
      "text/plain": [
       "True"
      ]
     },
     "execution_count": 14,
     "metadata": {},
     "output_type": "execute_result"
    }
   ],
   "source": [
    "pg188 = \"jpgs/output-188-to-188.jpg\"\n",
    "os.path.isfile(pg188)"
   ]
  },
  {
   "cell_type": "code",
   "execution_count": 31,
   "metadata": {},
   "outputs": [],
   "source": [
    "def dtlh(path, lh):\n",
    "    \"\"\"Detects text in the file.\"\"\"\n",
    "    client = vision.ImageAnnotatorClient()\n",
    "\n",
    "    with io.open(path, 'rb') as image_file:\n",
    "        content = image_file.read()\n",
    "\n",
    "    image = vision.types.Image(content=content)\n",
    "\n",
    "    response = client.text_detection(\n",
    "    image=image,\n",
    "    image_context={\"language_hints\": lh},  # Bengali\n",
    "    )\n",
    "    texts = response.text_annotations\n",
    "    \n",
    "#     for text in response.text_annotations:\n",
    "#         print(f'\"{text.description}\"')\n",
    "#     print('Texts:')\n",
    "#     for text in texts:\n",
    "#         print('\\n\"{}\"'.format(text.description))\n",
    "#         td = '\\n\"{}\"'.format(text.description)\n",
    "#         print(td)\n",
    "#     print(f'\"{texts.description}\"')  \n",
    "    print(texts[0].description)\n",
    "#     print('\\n\"{}\"'.format(texts[0].description))\n",
    "#         vertices = (['({},{})'.format(vertex.x, vertex.y)\n",
    "#                     for vertex in text.bounding_poly.vertices])\n",
    "#         bdt = 'bounds: {}'.format(','.join(vertices))\n",
    "#         print(bdt)\n",
    "#         return {\"td\": td, \"bdt\": bdt}\n",
    "\n",
    "#         print('bounds: {}'.format(','.join(vertices)))\n",
    "\n",
    "    if response.error.message:\n",
    "        raise Exception(\n",
    "            '{}\\nFor more info on error messages, check: '\n",
    "            'https://cloud.google.com/apis/design/errors'.format(\n",
    "                response.error.message))"
   ]
  },
  {
   "cell_type": "code",
   "execution_count": 32,
   "metadata": {
    "scrolled": true
   },
   "outputs": [
    {
     "name": "stdout",
     "output_type": "stream",
     "text": [
      "ಎಲಗೇ\n",
      "160\n",
      "-\n",
      "ಜ -\n",
      "ಎಲಗೇ elage [elager] tattrj[call) [Ka. *D831] Hay, look here! 2 an interjection expressing, aston-\n",
      "[೪ ಎಲೆಗೆ.\n",
      "ishnment, memory, doubt, etc., oh! [Ka. D831].\n",
      "ಎಲಚಿ elaci [elati] ಎಗಚಿ, etaryce, etace, etci, eluci ಎಲೋ elo [elo] tattri, [call) [Ka. D831] = ಎಲೋ.\n",
      "11. [plant] Indian jujube tree at its fruit, ZizipHS ಎಲೋ eld [eloz] ಎಲೆ tattrj, [call] Word used to\n",
      "YYYOUriticazza (Rharmnaceae) - food, pharm, [Ka. address (a younger and intimate Imanyor any man\n",
      "D475]= Ka, bre, H. berk [ ಎಲಚಿ.\n",
      "without respect ಎಲೋ ನೀರು ಕೊಡು, Hey, bring water!\n",
      "(ಎಲಚೆ elace [elage]2. [plant] [Ka. *D475] ಎಲಚಿ, [Ka. D831].\n",
      "•ಎಲರ್‌ ಅlar [elor] ಎರಲ್, ಎರಲು, ಎಲರು 7. [weather] *ಎಲ್ಲಿ elci [elfi] 11. [plant) [Ka. D475] (My, (Kitt.)\n",
      "breeze [Ka. D810].\n",
      "[ಕ ಎಲಚಿ.\n",
      "(ಎಲಲ್ elal [elal], [weather] [Ka. D810] IF ಎಲರ್‌. ಎಲ್ಲ ella [elle] 1 prot adj, [amount] all, whole\n",
      "* ಎಲವ elava []ove] 31. [plant] red silk-Cotton 2) 7. everything, the whole 3 profit, everything,\n",
      "tree BornbX Ceiba L. (Bombacaceae) (Swad.16? (Kt.) whole [Ka. D844].\n",
      "[Ka. D495] = ಬೂರುಗ *[IMP 1.288].\n",
      "ಎಲ್ಲರು ellaru [ellaru] ಎಲ್ಲರೂ, ಎಲ್ಲವರು, ಎಲ್ಲಾರು,\n",
      "ಎಲಾ ela [eler] ಎಲ tattrj. [call] Hay! (used for ಎಲ್ಲವರು prof೭.೪೪] [mass] pl.) all the people, all the\n",
      "calling the attention of a familiar or friendly person, members [Ka. *D844].\n",
      "used as an exclamation to express that Sormething un- ಎಲ್ಲ ರುಮ್ ellarunm [ellarum] prof೬.??Y (mass) all\n",
      "expected has happened – ಎಲಾ, ಏನಾಯಿತು! Hay! what the people, all the members [Ka. D844, ella + -r +\n",
      "happened! [Ka. D831].\n",
      "•ಎಲಿ eli [eli] 7. [mammal][Ka. D833] IFಇಲಿ (corm.). ಎಲ್ಲಾರು ellaru [elle:ru] prof೬.??Y (mass) [Ka.\n",
      "•ಎಲು elu [elu] 12, [body) [Ka. D839] IF ಎಲುಬು. *D844] (C. (Kt) [ಎಲ್ಲರು.\n",
      "* ಎಲುಗು elugu [elugu] 12. [body) [Ka. D839] (DEDR ಎಲ್ಲಿ elli [elli] ady. [loc.) (gen. ಎಲ್ಲಿಗೆ) where?,\n",
      "Index) ಎಲುವು.\n",
      "which place?, in what place? [Ka. D5151].\n",
      "ಎಲುಬು elubu [elibu] ಎಲವು, ಎಲು, ಎಲುವು, ಎಲ್ಕು 1. ಎಲ್ಲಿಗೆ ellige [ellige] ady. [loc.] (gen, of ಎಲ್ಲಿ)\n",
      "[body) bone [Ka. D839].\n",
      "where?, to whichplace? [Ka. elli + -ge].\n",
      "*ಎಲುವು eluvu [eliyu] 12, [body) [Ka. D839] ಎ ಎಲೈ elle [elle] 1. [end) lirmit, boundary, border [Ka.\n",
      "ಲುಬು (com.).\n",
      "D846] = ಗಡಿ.\n",
      "ಎಲೆ ele [ele] 12, 1 [plant] leaf 2 [plant] betel-leaf 3 (ಎಲ್ಕು elvu [elwu] 1. [body] [Ka. D839] Iಳ ಎಲುಬು.\n",
      "[game) playing Card [Ka. D497].\n",
      "ಎವೆ eve [eve] ft. [body] 1 eyelash 2 eyelid [E ಎಮೆ\n",
      "ಎಲೆ2 ele [ele] attrj, [call) [Ka. D831] It ಎಲೇ. = ಕಣ್ಣಿನ ರೆಪ್ಪೆ [Ka. D2545].\n",
      "* ಎಲೆಕಳ್ಳಿ elekalli [elekall] 1. [plant] [ete + kalli] (St, ಎಷ್ಟು estu [estu] ಎಟ್ಟುತಿ, ಏಟು 1 pron.adj.\n",
      "& PL. (Kitt).\n",
      "[amount] how much? What quantity of number?,\n",
      "ಎಲೆಗಳ್ಳಿ elegalli [elegal]] 7. [plant] Euphorbid how many? T ಆ ಸೈಟು ಎಷ್ಟು ರೂಪಾಯಿ? How many ru-\n",
      "fiv೩೬ta Buch.-Harm (Euphorbiaceae), Imilk-hedge _pees for the site? 2) tatter.proff, how many ?, how\n",
      "Variety, with or without thorns, which gives out much?, what quantity of number? ಹತ್ತು ರೂಪಾಯಿಗೆ\n",
      "milky juice when plucked [Ka.].\n",
      "ಬಾಳೆಹಣ್ಣು ಎಷ್ಟು? How many bananas [do you give] for ten\n",
      "ಎಲೆಗಾರ elegata [elegere] 17. [lux.) (f. ಎಲೆಗಾರ್ತಿ) rupees? [Ka. D5151].\n",
      "betel-leaf seller [Ka. ete + -kara].\n",
      "ಎಷ್ಟೊಂದು estondu [estondu] adj. [quan.] many\n",
      "ಎಲೆಗೆ elege [elege] ಎಲಗೆ, ಎಲಗೇ, ಎಲೆಗೇ tattrj [call] 3, quite many, quite Imuch ಎಷ್ಟೊಂದು ಬಸ್ಸುಗಳು ಸುಟ್ಟು\n",
      "Ho! Oho! (used for calling one's wife of Women ಹೋದವು. Many a bus were burnt down [estU + Orgada೩].\n",
      "with disrespect) [Ka. *D831] = ಎಲೆ [mod.]. ಎಸಕ' esaka [eske] ft. [work] action, deed, work\n",
      "•ಎಲೆಗೇ elege [eleger] tattri [call] [Ka. *D831] (Pb.1.21) [Ka. D471].\n",
      "[ಎಲೆಗೆ.\n",
      "ಎಸಕ esaka [eske] 12, 1 [light] light, brightness,\n",
      "ಎಲೇ ele [eler] ಎಲೆ, ಎಲೈ 11txj[call] 1 exclamation shine 2 [beauty] beauty, face 3 [manner] manner,\n",
      "of a familiar and friendly character, used in calling state of being (Fb.1.139) 4 [quan.] excess, abundance\n",
      "or directly addressing any person ಎಲೇ ಇಲ್ಲಿ ನೋಡು ! 5 [power] Imajesty, glory (as of a king) [Ka. DT78].\n",
      "\n"
     ]
    }
   ],
   "source": [
    "dtlh(pg188, [\"kn\"])"
   ]
  },
  {
   "cell_type": "code",
   "execution_count": null,
   "metadata": {},
   "outputs": [],
   "source": [
    "def detect_crop_hints_uri(uri):\n",
    "    \"\"\"Detects crop hints in the file located in Google Cloud Storage.\"\"\"\n",
    "    from google.cloud import vision\n",
    "    client = vision.ImageAnnotatorClient()\n",
    "    image = vision.types.Image()\n",
    "    image.source.image_uri = uri\n",
    "\n",
    "    crop_hints_params = vision.types.CropHintsParams(aspect_ratios=[1.77])\n",
    "    image_context = vision.types.ImageContext(\n",
    "        crop_hints_params=crop_hints_params)\n",
    "\n",
    "    response = client.crop_hints(image=image, image_context=image_context)\n",
    "    hints = response.crop_hints_annotation.crop_hints\n",
    "\n",
    "    for n, hint in enumerate(hints):\n",
    "        print('\\nCrop Hint: {}'.format(n))\n",
    "\n",
    "        vertices = (['({},{})'.format(vertex.x, vertex.y)\n",
    "                    for vertex in hint.bounding_poly.vertices])\n",
    "\n",
    "        print('bounds: {}'.format(','.join(vertices)))\n",
    "\n",
    "    if response.error.message:\n",
    "        raise Exception(\n",
    "            '{}\\nFor more info on error messages, check: '\n",
    "            'https://cloud.google.com/apis/design/errors'.format(\n",
    "                response.error.message))"
   ]
  },
  {
   "cell_type": "code",
   "execution_count": null,
   "metadata": {},
   "outputs": [],
   "source": [
    "sample = \"gs://cloud-samples-data/vision/crop_hints/bubble.jpeg\""
   ]
  },
  {
   "cell_type": "code",
   "execution_count": null,
   "metadata": {},
   "outputs": [],
   "source": [
    "detect_crop_hints_uri(sample)"
   ]
  },
  {
   "cell_type": "code",
   "execution_count": null,
   "metadata": {},
   "outputs": [],
   "source": [
    "def crop_bottom_half(image):\n",
    "    cropped_img = image[image.shape[0]/2:image.shape[0]]\n",
    "    return cropped_img"
   ]
  },
  {
   "cell_type": "code",
   "execution_count": null,
   "metadata": {},
   "outputs": [],
   "source": []
  }
 ],
 "metadata": {
  "kernelspec": {
   "display_name": "Python 3",
   "language": "python",
   "name": "python3"
  },
  "language_info": {
   "codemirror_mode": {
    "name": "ipython",
    "version": 3
   },
   "file_extension": ".py",
   "mimetype": "text/x-python",
   "name": "python",
   "nbconvert_exporter": "python",
   "pygments_lexer": "ipython3",
   "version": "3.7.7"
  }
 },
 "nbformat": 4,
 "nbformat_minor": 4
}
